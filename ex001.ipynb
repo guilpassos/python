{
  "nbformat": 4,
  "nbformat_minor": 0,
  "metadata": {
    "colab": {
      "provenance": [],
      "authorship_tag": "ABX9TyNHRM9gRDEf6sQfP+Ad86ZR",
      "include_colab_link": true
    },
    "kernelspec": {
      "name": "python3",
      "display_name": "Python 3"
    },
    "language_info": {
      "name": "python"
    }
  },
  "cells": [
    {
      "cell_type": "markdown",
      "metadata": {
        "id": "view-in-github",
        "colab_type": "text"
      },
      "source": [
        "<a href=\"https://colab.research.google.com/github/guilpassos/python/blob/main/ex001.ipynb\" target=\"_parent\"><img src=\"https://colab.research.google.com/assets/colab-badge.svg\" alt=\"Open In Colab\"/></a>"
      ]
    },
    {
      "cell_type": "code",
      "execution_count": 12,
      "metadata": {
        "colab": {
          "base_uri": "https://localhost:8080/"
        },
        "id": "8Dd-yC5SXb-L",
        "outputId": "93695053-7d26-4a6c-8b64-66e821e75018"
      },
      "outputs": [
        {
          "output_type": "stream",
          "name": "stdout",
          "text": [
            "Hotel (até 6 letras): Ibis\n",
            "Quantas estrelas (entre 1 e 5): 3\n",
            "Cidade do Hotel (até 8 letras): Recife\n",
            "********************\n",
            "******* Ibis *******\n",
            "*** 3 estrela(s)****\n",
            "****Em Recife ******\n",
            "********************\n"
          ]
        }
      ],
      "source": [
        "nome_do_hotel = str(input('Hotel (até 6 letras): '))\n",
        "estrelas = int(input('Quantas estrelas (entre 1 e 5): '))\n",
        "cidade = str(input('Cidade do Hotel (até 8 letras): '))\n",
        "print('*' * 20)\n",
        "print('*******',nome_do_hotel,'*******')\n",
        "print('***',estrelas,'estrela(s)****')\n",
        "print('****Em',cidade,'******')\n",
        "print('*' * 20)"
      ]
    }
  ]
}